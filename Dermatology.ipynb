{
  "nbformat": 4,
  "nbformat_minor": 0,
  "metadata": {
    "colab": {
      "name": "Dermatology.ipynb",
      "version": "0.3.2",
      "provenance": [],
      "include_colab_link": true
    },
    "kernelspec": {
      "name": "python3",
      "display_name": "Python 3"
    }
  },
  "cells": [
    {
      "cell_type": "markdown",
      "metadata": {
        "id": "view-in-github",
        "colab_type": "text"
      },
      "source": [
        "<a href=\"https://colab.research.google.com/github/riviera2015/02456-deep-learning/blob/master/Dermatology.ipynb\" target=\"_parent\"><img src=\"https://colab.research.google.com/assets/colab-badge.svg\" alt=\"Open In Colab\"/></a>"
      ]
    },
    {
      "cell_type": "code",
      "metadata": {
        "id": "y8qDkFV3jB-N",
        "colab_type": "code",
        "colab": {}
      },
      "source": [
        "import pandas as pd\n",
        "import numpy as np\n",
        "import matplotlib.pyplot as plt\n",
        "import seaborn as sns"
      ],
      "execution_count": 0,
      "outputs": []
    },
    {
      "cell_type": "code",
      "metadata": {
        "id": "_QfPQhuRjHz9",
        "colab_type": "code",
        "colab": {}
      },
      "source": [
        "df = pd.read_csv('https://github.com/NikitaKurkov/datasets/raw/master/dermatologydata.csv',\n",
        "                header=None,\n",
        "                names=['erythema','scaling', 'definite borders', 'itching',\n",
        "                       'koebner phenomenon', 'polygonal papules','follicular papules',\n",
        "                       'oral mucosal involvement','knee and elbow involvement',\n",
        "                       'scalp involvement','family history(0 or 1)','melanin incontinence',\n",
        "                       'eosinophils in the infiltrate','PNL infiltrate',\n",
        "                       'fibrosis of the papillary dermis','exocytosis','acanthosis',\n",
        "                       'hyperkeratosis','parakeratosis','dlubbing of the rete ridges',\n",
        "                       'elongation of the rete ridges','thinning of the suprapapillary epidermis',\n",
        "                       'spongiform pustule','munro microabcess','focal hypergranulosis',\n",
        "                       'disappearance of the granular layer',\n",
        "                       'vacuolisation and damage of basal layer',\n",
        "                       'spongiosis','saw-tooth appearance of retes',\n",
        "                       'follicular horn plug','perifollicular parakeratosis',\n",
        "                       'inflammatory monoluclear inflitrate','band-like infiltrate',\n",
        "                       'Age (linear)','Classcode'])"
      ],
      "execution_count": 0,
      "outputs": []
    },
    {
      "cell_type": "code",
      "metadata": {
        "id": "M71sMNcejKQc",
        "colab_type": "code",
        "colab": {}
      },
      "source": [
        "df.dtypes\n",
        "df['Age (linear)'].replace('?', 0, inplace=True)\n",
        "df['Age (linear)'] = df['Age (linear)'].astype('int64')"
      ],
      "execution_count": 0,
      "outputs": []
    },
    {
      "cell_type": "code",
      "metadata": {
        "id": "vpKsIOAbjKex",
        "colab_type": "code",
        "outputId": "6ed0354b-87fe-4528-ed69-077997d0514b",
        "colab": {
          "base_uri": "https://localhost:8080/",
          "height": 105
        }
      },
      "source": [
        "from sklearn.preprocessing import OneHotEncoder\n",
        "from sklearn.preprocessing import StandardScaler\n",
        "\n",
        "scaler = StandardScaler()\n",
        "X = df.drop(columns='Classcode')\n",
        "X = scaler.fit_transform(X)\n",
        "y = df['Classcode']\n",
        "one = OneHotEncoder(sparse=False)\n",
        "y = one.fit_transform(np.array(y).reshape(-1,1))"
      ],
      "execution_count": 0,
      "outputs": [
        {
          "output_type": "stream",
          "text": [
            "/usr/local/lib/python3.6/dist-packages/sklearn/preprocessing/_encoders.py:415: FutureWarning: The handling of integer data will change in version 0.22. Currently, the categories are determined based on the range [0, max(values)], while in the future they will be determined based on the unique values.\n",
            "If you want the future behaviour and silence this warning, you can specify \"categories='auto'\".\n",
            "In case you used a LabelEncoder before this OneHotEncoder to convert the categories to integers, then you can now use the OneHotEncoder directly.\n",
            "  warnings.warn(msg, FutureWarning)\n"
          ],
          "name": "stderr"
        }
      ]
    },
    {
      "cell_type": "code",
      "metadata": {
        "id": "rf_0fGawjMRA",
        "colab_type": "code",
        "colab": {}
      },
      "source": [
        "from sklearn.model_selection import train_test_split\n",
        "\n",
        "X_train, X_test, y_train, y_test = train_test_split(X, y, test_size=0.5)"
      ],
      "execution_count": 0,
      "outputs": []
    },
    {
      "cell_type": "code",
      "metadata": {
        "id": "Y8cSSiXWjN4x",
        "colab_type": "code",
        "outputId": "0b62e41c-f125-4e7c-82c5-ef40fa847275",
        "colab": {
          "base_uri": "https://localhost:8080/",
          "height": 173
        }
      },
      "source": [
        "from keras import Sequential\n",
        "from keras.layers import Dense\n",
        "\n",
        "classifier = Sequential()\n",
        "classifier.add(Dense(16, activation='relu', kernel_initializer='random_normal', input_dim=(X_train.shape[1])))\n",
        "classifier.add(Dense(8, activation='relu', kernel_initializer='random_normal'))\n",
        "classifier.add(Dense(6, activation='sigmoid', kernel_initializer='random_normal'))"
      ],
      "execution_count": 0,
      "outputs": [
        {
          "output_type": "stream",
          "text": [
            "Using TensorFlow backend.\n",
            "WARNING: Logging before flag parsing goes to stderr.\n",
            "W0617 17:02:01.266013 140022266656640 deprecation_wrapper.py:119] From /usr/local/lib/python3.6/dist-packages/keras/backend/tensorflow_backend.py:74: The name tf.get_default_graph is deprecated. Please use tf.compat.v1.get_default_graph instead.\n",
            "\n",
            "W0617 17:02:01.310671 140022266656640 deprecation_wrapper.py:119] From /usr/local/lib/python3.6/dist-packages/keras/backend/tensorflow_backend.py:517: The name tf.placeholder is deprecated. Please use tf.compat.v1.placeholder instead.\n",
            "\n",
            "W0617 17:02:01.320214 140022266656640 deprecation_wrapper.py:119] From /usr/local/lib/python3.6/dist-packages/keras/backend/tensorflow_backend.py:4115: The name tf.random_normal is deprecated. Please use tf.random.normal instead.\n",
            "\n"
          ],
          "name": "stderr"
        }
      ]
    },
    {
      "cell_type": "code",
      "metadata": {
        "id": "-HOfTgOakGKZ",
        "colab_type": "code",
        "outputId": "1e8668ac-9b4b-45ba-e032-ae271b6ea312",
        "colab": {
          "base_uri": "https://localhost:8080/",
          "height": 3434
        }
      },
      "source": [
        "classifier.compile(loss='binary_crossentropy', optimizer='adam')\n",
        "classifier.fit(X_train, y_train, epochs=100, batch_size=1, verbose=2)"
      ],
      "execution_count": 0,
      "outputs": [
        {
          "output_type": "stream",
          "text": [
            "Epoch 1/100\n",
            " - 0s - loss: 7.0759e-07\n",
            "Epoch 2/100\n",
            " - 0s - loss: 3.7633e-07\n",
            "Epoch 3/100\n",
            " - 0s - loss: 3.6613e-07\n",
            "Epoch 4/100\n",
            " - 0s - loss: 3.0461e-07\n",
            "Epoch 5/100\n",
            " - 0s - loss: 2.1067e-07\n",
            "Epoch 6/100\n",
            " - 0s - loss: 1.8677e-07\n",
            "Epoch 7/100\n",
            " - 0s - loss: 1.7065e-07\n",
            "Epoch 8/100\n",
            " - 0s - loss: 1.5619e-07\n",
            "Epoch 9/100\n",
            " - 0s - loss: 1.4665e-07\n",
            "Epoch 10/100\n",
            " - 0s - loss: 1.4086e-07\n",
            "Epoch 11/100\n",
            " - 0s - loss: 1.3411e-07\n",
            "Epoch 12/100\n",
            " - 0s - loss: 1.2862e-07\n",
            "Epoch 13/100\n",
            " - 0s - loss: 1.2469e-07\n",
            "Epoch 14/100\n",
            " - 0s - loss: 1.2159e-07\n",
            "Epoch 15/100\n",
            " - 0s - loss: 1.1966e-07\n",
            "Epoch 16/100\n",
            " - 0s - loss: 1.1675e-07\n",
            "Epoch 17/100\n",
            " - 0s - loss: 1.1489e-07\n",
            "Epoch 18/100\n",
            " - 0s - loss: 1.1353e-07\n",
            "Epoch 19/100\n",
            " - 0s - loss: 1.1174e-07\n",
            "Epoch 20/100\n",
            " - 0s - loss: 1.1041e-07\n",
            "Epoch 21/100\n",
            " - 0s - loss: 1.0941e-07\n",
            "Epoch 22/100\n",
            " - 0s - loss: 1.0868e-07\n",
            "Epoch 23/100\n",
            " - 0s - loss: 1.0794e-07\n",
            "Epoch 24/100\n",
            " - 0s - loss: 1.0717e-07\n",
            "Epoch 25/100\n",
            " - 0s - loss: 1.0653e-07\n",
            "Epoch 26/100\n",
            " - 0s - loss: 1.0627e-07\n",
            "Epoch 27/100\n",
            " - 0s - loss: 1.0573e-07\n",
            "Epoch 28/100\n",
            " - 0s - loss: 1.0545e-07\n",
            "Epoch 29/100\n",
            " - 0s - loss: 1.0516e-07\n",
            "Epoch 30/100\n",
            " - 0s - loss: 1.0505e-07\n",
            "Epoch 31/100\n",
            " - 0s - loss: 1.0464e-07\n",
            "Epoch 32/100\n",
            " - 0s - loss: 1.0453e-07\n",
            "Epoch 33/100\n",
            " - 0s - loss: 1.0448e-07\n",
            "Epoch 34/100\n",
            " - 0s - loss: 1.0429e-07\n",
            "Epoch 35/100\n",
            " - 0s - loss: 1.0408e-07\n",
            "Epoch 36/100\n",
            " - 0s - loss: 1.0381e-07\n",
            "Epoch 37/100\n",
            " - 0s - loss: 1.0385e-07\n",
            "Epoch 38/100\n",
            " - 0s - loss: 1.0371e-07\n",
            "Epoch 39/100\n",
            " - 0s - loss: 1.0380e-07\n",
            "Epoch 40/100\n",
            " - 0s - loss: 1.0360e-07\n",
            "Epoch 41/100\n",
            " - 0s - loss: 1.0359e-07\n",
            "Epoch 42/100\n",
            " - 0s - loss: 1.0343e-07\n",
            "Epoch 43/100\n",
            " - 0s - loss: 1.0344e-07\n",
            "Epoch 44/100\n",
            " - 0s - loss: 1.0328e-07\n",
            "Epoch 45/100\n",
            " - 0s - loss: 1.0327e-07\n",
            "Epoch 46/100\n",
            " - 0s - loss: 1.0324e-07\n",
            "Epoch 47/100\n",
            " - 0s - loss: 1.0324e-07\n",
            "Epoch 48/100\n",
            " - 0s - loss: 1.0323e-07\n",
            "Epoch 49/100\n",
            " - 0s - loss: 1.0321e-07\n",
            "Epoch 50/100\n",
            " - 0s - loss: 1.0328e-07\n",
            "Epoch 51/100\n",
            " - 0s - loss: 1.0321e-07\n",
            "Epoch 52/100\n",
            " - 0s - loss: 1.0323e-07\n",
            "Epoch 53/100\n",
            " - 0s - loss: 1.0321e-07\n",
            "Epoch 54/100\n",
            " - 0s - loss: 1.0322e-07\n",
            "Epoch 55/100\n",
            " - 0s - loss: 1.0320e-07\n",
            "Epoch 56/100\n",
            " - 0s - loss: 1.0321e-07\n",
            "Epoch 57/100\n",
            " - 0s - loss: 1.0321e-07\n",
            "Epoch 58/100\n",
            " - 0s - loss: 1.0321e-07\n",
            "Epoch 59/100\n",
            " - 0s - loss: 1.0321e-07\n",
            "Epoch 60/100\n",
            " - 0s - loss: 1.0322e-07\n",
            "Epoch 61/100\n",
            " - 0s - loss: 1.0321e-07\n",
            "Epoch 62/100\n",
            " - 0s - loss: 1.0320e-07\n",
            "Epoch 63/100\n",
            " - 0s - loss: 1.0321e-07\n",
            "Epoch 64/100\n",
            " - 0s - loss: 1.0321e-07\n",
            "Epoch 65/100\n",
            " - 0s - loss: 1.0320e-07\n",
            "Epoch 66/100\n",
            " - 0s - loss: 1.0320e-07\n",
            "Epoch 67/100\n",
            " - 0s - loss: 1.0320e-07\n",
            "Epoch 68/100\n",
            " - 0s - loss: 1.0320e-07\n",
            "Epoch 69/100\n",
            " - 0s - loss: 1.0320e-07\n",
            "Epoch 70/100\n",
            " - 0s - loss: 1.0320e-07\n",
            "Epoch 71/100\n",
            " - 0s - loss: 1.0320e-07\n",
            "Epoch 72/100\n",
            " - 0s - loss: 1.0320e-07\n",
            "Epoch 73/100\n",
            " - 0s - loss: 1.0320e-07\n",
            "Epoch 74/100\n",
            " - 0s - loss: 1.0320e-07\n",
            "Epoch 75/100\n",
            " - 0s - loss: 1.0320e-07\n",
            "Epoch 76/100\n",
            " - 0s - loss: 1.0320e-07\n",
            "Epoch 77/100\n",
            " - 0s - loss: 1.0320e-07\n",
            "Epoch 78/100\n",
            " - 0s - loss: 1.0320e-07\n",
            "Epoch 79/100\n",
            " - 0s - loss: 1.0320e-07\n",
            "Epoch 80/100\n",
            " - 0s - loss: 1.0320e-07\n",
            "Epoch 81/100\n",
            " - 0s - loss: 1.0320e-07\n",
            "Epoch 82/100\n",
            " - 0s - loss: 1.0320e-07\n",
            "Epoch 83/100\n",
            " - 0s - loss: 1.0320e-07\n",
            "Epoch 84/100\n",
            " - 0s - loss: 1.0320e-07\n",
            "Epoch 85/100\n",
            " - 0s - loss: 1.0320e-07\n",
            "Epoch 86/100\n",
            " - 0s - loss: 1.0320e-07\n",
            "Epoch 87/100\n",
            " - 0s - loss: 1.0320e-07\n",
            "Epoch 88/100\n",
            " - 0s - loss: 1.0320e-07\n",
            "Epoch 89/100\n",
            " - 0s - loss: 1.0320e-07\n",
            "Epoch 90/100\n",
            " - 0s - loss: 1.0320e-07\n",
            "Epoch 91/100\n",
            " - 0s - loss: 1.0320e-07\n",
            "Epoch 92/100\n",
            " - 0s - loss: 1.0320e-07\n",
            "Epoch 93/100\n",
            " - 0s - loss: 1.0320e-07\n",
            "Epoch 94/100\n",
            " - 0s - loss: 1.0320e-07\n",
            "Epoch 95/100\n",
            " - 0s - loss: 1.0320e-07\n",
            "Epoch 96/100\n",
            " - 0s - loss: 1.0320e-07\n",
            "Epoch 97/100\n",
            " - 0s - loss: 1.0320e-07\n",
            "Epoch 98/100\n",
            " - 0s - loss: 1.0320e-07\n",
            "Epoch 99/100\n",
            " - 0s - loss: 1.0320e-07\n",
            "Epoch 100/100\n",
            " - 0s - loss: 1.0320e-07\n"
          ],
          "name": "stdout"
        },
        {
          "output_type": "execute_result",
          "data": {
            "text/plain": [
              "<keras.callbacks.History at 0x7f59377e1d30>"
            ]
          },
          "metadata": {
            "tags": []
          },
          "execution_count": 20
        }
      ]
    },
    {
      "cell_type": "code",
      "metadata": {
        "id": "OLY9ITnAkNUf",
        "colab_type": "code",
        "colab": {}
      },
      "source": [
        "preds = classifier.predict(X_test)\n",
        "labels = np.zeros(preds.shape)\n",
        "labels[preds>0.5] = 1"
      ],
      "execution_count": 0,
      "outputs": []
    },
    {
      "cell_type": "code",
      "metadata": {
        "id": "Kl_sj1PJlJkL",
        "colab_type": "code",
        "outputId": "dac6cd64-ef60-4d59-e96c-69df4e439b9f",
        "colab": {
          "base_uri": "https://localhost:8080/",
          "height": 51
        }
      },
      "source": [
        "from sklearn.metrics import f1_score\n",
        "from sklearn.metrics import accuracy_score\n",
        "\n",
        "print(\"Accuracy: \", accuracy_score(y_test, labels))\n",
        "\n",
        "print(\"F1 score: \", f1_score(y_test, labels, average='weighted'))"
      ],
      "execution_count": 0,
      "outputs": [
        {
          "output_type": "stream",
          "text": [
            "Accuracy:  0.9453551912568307\n",
            "F1 score:  0.9572374919573353\n"
          ],
          "name": "stdout"
        }
      ]
    },
    {
      "cell_type": "code",
      "metadata": {
        "id": "lqsw9ScOpy-Q",
        "colab_type": "code",
        "colab": {}
      },
      "source": [
        ""
      ],
      "execution_count": 0,
      "outputs": []
    }
  ]
}